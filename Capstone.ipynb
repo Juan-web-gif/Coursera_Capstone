{
 "cells": [
  {
   "cell_type": "code",
   "execution_count": 1,
   "metadata": {},
   "outputs": [],
   "source": [
    "#import libraries\n",
    "import geocoder\n",
    "import pandas as pd \n",
    "import numpy as np\n",
    "from sklearn.cluster import KMeans\n",
    "import matplotlib.cm as cm\n",
    "import matplotlib.colors as colors\n",
    "import folium"
   ]
  },
  {
   "cell_type": "code",
   "execution_count": 2,
   "metadata": {},
   "outputs": [
    {
     "data": {
      "text/html": [
       "<div>\n",
       "<style scoped>\n",
       "    .dataframe tbody tr th:only-of-type {\n",
       "        vertical-align: middle;\n",
       "    }\n",
       "\n",
       "    .dataframe tbody tr th {\n",
       "        vertical-align: top;\n",
       "    }\n",
       "\n",
       "    .dataframe thead th {\n",
       "        text-align: right;\n",
       "    }\n",
       "</style>\n",
       "<table border=\"1\" class=\"dataframe\">\n",
       "  <thead>\n",
       "    <tr style=\"text-align: right;\">\n",
       "      <th></th>\n",
       "      <th>postal_code</th>\n",
       "      <th>borough</th>\n",
       "      <th>Neighbourhoods</th>\n",
       "      <th>Latitude</th>\n",
       "      <th>Longitude</th>\n",
       "    </tr>\n",
       "  </thead>\n",
       "  <tbody>\n",
       "    <tr>\n",
       "      <th>0</th>\n",
       "      <td>M5M</td>\n",
       "      <td>Scarborough</td>\n",
       "      <td>Agincourt and Brimwood</td>\n",
       "      <td>437332825</td>\n",
       "      <td>-794197497</td>\n",
       "    </tr>\n",
       "    <tr>\n",
       "      <th>1</th>\n",
       "      <td>M8K</td>\n",
       "      <td>Scarborough</td>\n",
       "      <td>Agincourt and Malvern</td>\n",
       "      <td>436536536</td>\n",
       "      <td>-795069436</td>\n",
       "    </tr>\n",
       "    <tr>\n",
       "      <th>2</th>\n",
       "      <td>M4L</td>\n",
       "      <td>Etobicoke</td>\n",
       "      <td>Alderwood</td>\n",
       "      <td>436689985</td>\n",
       "      <td>-793155716</td>\n",
       "    </tr>\n",
       "    <tr>\n",
       "      <th>3</th>\n",
       "      <td>M3D</td>\n",
       "      <td>Old City of Toronto</td>\n",
       "      <td>The Annex and Seaton Village</td>\n",
       "      <td>437258997</td>\n",
       "      <td>-79340923</td>\n",
       "    </tr>\n",
       "    <tr>\n",
       "      <th>4</th>\n",
       "      <td>M8X</td>\n",
       "      <td>North York</td>\n",
       "      <td>Don Mills</td>\n",
       "      <td>436536536</td>\n",
       "      <td>-795069436</td>\n",
       "    </tr>\n",
       "    <tr>\n",
       "      <th>...</th>\n",
       "      <td>...</td>\n",
       "      <td>...</td>\n",
       "      <td>...</td>\n",
       "      <td>...</td>\n",
       "      <td>...</td>\n",
       "    </tr>\n",
       "    <tr>\n",
       "      <th>135</th>\n",
       "      <td>M4E</td>\n",
       "      <td>Old City of Toronto</td>\n",
       "      <td>NaN</td>\n",
       "      <td>436515706</td>\n",
       "      <td>-794844499</td>\n",
       "    </tr>\n",
       "    <tr>\n",
       "      <th>136</th>\n",
       "      <td>M1M</td>\n",
       "      <td>Old City of Toronto</td>\n",
       "      <td>Chaplin Estates</td>\n",
       "      <td>43716316</td>\n",
       "      <td>-792394761</td>\n",
       "    </tr>\n",
       "    <tr>\n",
       "      <th>137</th>\n",
       "      <td>M2H</td>\n",
       "      <td>Old City of Toronto</td>\n",
       "      <td>NaN</td>\n",
       "      <td>438037622</td>\n",
       "      <td>-793634517</td>\n",
       "    </tr>\n",
       "    <tr>\n",
       "      <th>138</th>\n",
       "      <td>M5G</td>\n",
       "      <td>North York</td>\n",
       "      <td>NaN</td>\n",
       "      <td>436627439</td>\n",
       "      <td>-79321558</td>\n",
       "    </tr>\n",
       "    <tr>\n",
       "      <th>139</th>\n",
       "      <td>M8Y</td>\n",
       "      <td>North York</td>\n",
       "      <td>Glen Park, Lawrence Heights</td>\n",
       "      <td>436056466</td>\n",
       "      <td>-795013207</td>\n",
       "    </tr>\n",
       "  </tbody>\n",
       "</table>\n",
       "<p>140 rows × 5 columns</p>\n",
       "</div>"
      ],
      "text/plain": [
       "    postal_code              borough                Neighbourhoods   Latitude  \\\n",
       "0           M5M          Scarborough        Agincourt and Brimwood  437332825   \n",
       "1           M8K          Scarborough         Agincourt and Malvern  436536536   \n",
       "2           M4L            Etobicoke                     Alderwood  436689985   \n",
       "3           M3D  Old City of Toronto  The Annex and Seaton Village  437258997   \n",
       "4           M8X           North York                     Don Mills  436536536   \n",
       "..          ...                  ...                           ...        ...   \n",
       "135         M4E  Old City of Toronto                           NaN  436515706   \n",
       "136         M1M  Old City of Toronto               Chaplin Estates   43716316   \n",
       "137         M2H  Old City of Toronto                           NaN  438037622   \n",
       "138         M5G           North York                           NaN  436627439   \n",
       "139         M8Y           North York   Glen Park, Lawrence Heights  436056466   \n",
       "\n",
       "     Longitude  \n",
       "0   -794197497  \n",
       "1   -795069436  \n",
       "2   -793155716  \n",
       "3    -79340923  \n",
       "4   -795069436  \n",
       "..         ...  \n",
       "135 -794844499  \n",
       "136 -792394761  \n",
       "137 -793634517  \n",
       "138  -79321558  \n",
       "139 -795013207  \n",
       "\n",
       "[140 rows x 5 columns]"
      ]
     },
     "execution_count": 2,
     "metadata": {},
     "output_type": "execute_result"
    }
   ],
   "source": [
    "df = pd.read_excel(\"Torontontero.xlsx\")\n",
    "df"
   ]
  },
  {
   "cell_type": "code",
   "execution_count": 3,
   "metadata": {},
   "outputs": [
    {
     "name": "stdout",
     "output_type": "stream",
     "text": [
      "The dataframe has 6 borough and 140 Neighborhoods.\n"
     ]
    }
   ],
   "source": [
    "print('The dataframe has {} borough and {} Neighborhoods.'.format(\n",
    "        len(df['borough'].unique()),\n",
    "        df.shape[0]\n",
    "    )\n",
    ")"
   ]
  },
  {
   "cell_type": "code",
   "execution_count": 4,
   "metadata": {},
   "outputs": [],
   "source": [
    "x = np.array(df[[\"Longitude\", \"Latitude\"]])"
   ]
  },
  {
   "cell_type": "code",
   "execution_count": 5,
   "metadata": {},
   "outputs": [
    {
     "data": {
      "text/plain": [
       "KMeans(n_clusters=5, random_state=100)"
      ]
     },
     "execution_count": 5,
     "metadata": {},
     "output_type": "execute_result"
    }
   ],
   "source": [
    "kmeans = KMeans(n_clusters=5, random_state=100)\n",
    "kmeans.fit(x)"
   ]
  },
  {
   "cell_type": "code",
   "execution_count": 6,
   "metadata": {},
   "outputs": [],
   "source": [
    "df[\"cluster\"]=kmeans.predict(x)"
   ]
  },
  {
   "cell_type": "code",
   "execution_count": 14,
   "metadata": {},
   "outputs": [],
   "source": [
    "Latitude = df.Latitude\n",
    "Longitude = df.Longitude\n"
   ]
  },
  {
   "cell_type": "code",
   "execution_count": 7,
   "metadata": {},
   "outputs": [
    {
     "data": {
      "text/html": [
       "<div>\n",
       "<style scoped>\n",
       "    .dataframe tbody tr th:only-of-type {\n",
       "        vertical-align: middle;\n",
       "    }\n",
       "\n",
       "    .dataframe tbody tr th {\n",
       "        vertical-align: top;\n",
       "    }\n",
       "\n",
       "    .dataframe thead th {\n",
       "        text-align: right;\n",
       "    }\n",
       "</style>\n",
       "<table border=\"1\" class=\"dataframe\">\n",
       "  <thead>\n",
       "    <tr style=\"text-align: right;\">\n",
       "      <th></th>\n",
       "      <th>postal_code</th>\n",
       "      <th>borough</th>\n",
       "      <th>Neighbourhoods</th>\n",
       "      <th>Latitude</th>\n",
       "      <th>Longitude</th>\n",
       "      <th>cluster</th>\n",
       "    </tr>\n",
       "  </thead>\n",
       "  <tbody>\n",
       "    <tr>\n",
       "      <th>0</th>\n",
       "      <td>M5M</td>\n",
       "      <td>Scarborough</td>\n",
       "      <td>Agincourt and Brimwood</td>\n",
       "      <td>437332825</td>\n",
       "      <td>-794197497</td>\n",
       "      <td>4</td>\n",
       "    </tr>\n",
       "    <tr>\n",
       "      <th>1</th>\n",
       "      <td>M8K</td>\n",
       "      <td>Scarborough</td>\n",
       "      <td>Agincourt and Malvern</td>\n",
       "      <td>436536536</td>\n",
       "      <td>-795069436</td>\n",
       "      <td>3</td>\n",
       "    </tr>\n",
       "    <tr>\n",
       "      <th>2</th>\n",
       "      <td>M4L</td>\n",
       "      <td>Etobicoke</td>\n",
       "      <td>Alderwood</td>\n",
       "      <td>436689985</td>\n",
       "      <td>-793155716</td>\n",
       "      <td>1</td>\n",
       "    </tr>\n",
       "    <tr>\n",
       "      <th>3</th>\n",
       "      <td>M3D</td>\n",
       "      <td>Old City of Toronto</td>\n",
       "      <td>The Annex and Seaton Village</td>\n",
       "      <td>437258997</td>\n",
       "      <td>-79340923</td>\n",
       "      <td>2</td>\n",
       "    </tr>\n",
       "    <tr>\n",
       "      <th>4</th>\n",
       "      <td>M8X</td>\n",
       "      <td>North York</td>\n",
       "      <td>Don Mills</td>\n",
       "      <td>436536536</td>\n",
       "      <td>-795069436</td>\n",
       "      <td>3</td>\n",
       "    </tr>\n",
       "  </tbody>\n",
       "</table>\n",
       "</div>"
      ],
      "text/plain": [
       "  postal_code              borough                Neighbourhoods   Latitude  \\\n",
       "0         M5M          Scarborough        Agincourt and Brimwood  437332825   \n",
       "1         M8K          Scarborough         Agincourt and Malvern  436536536   \n",
       "2         M4L            Etobicoke                     Alderwood  436689985   \n",
       "3         M3D  Old City of Toronto  The Annex and Seaton Village  437258997   \n",
       "4         M8X           North York                     Don Mills  436536536   \n",
       "\n",
       "   Longitude  cluster  \n",
       "0 -794197497        4  \n",
       "1 -795069436        3  \n",
       "2 -793155716        1  \n",
       "3  -79340923        2  \n",
       "4 -795069436        3  "
      ]
     },
     "execution_count": 7,
     "metadata": {},
     "output_type": "execute_result"
    }
   ],
   "source": [
    "df.head()"
   ]
  },
  {
   "cell_type": "code",
   "execution_count": 8,
   "metadata": {},
   "outputs": [
    {
     "data": {
      "text/plain": [
       "cluster\n",
       "4    50\n",
       "3    32\n",
       "1    23\n",
       "2    20\n",
       "0    15\n",
       "dtype: int64"
      ]
     },
     "execution_count": 8,
     "metadata": {},
     "output_type": "execute_result"
    }
   ],
   "source": [
    "df.value_counts(\"cluster\")"
   ]
  },
  {
   "cell_type": "code",
   "execution_count": null,
   "metadata": {},
   "outputs": [],
   "source": [
    "# create map\n",
    "map_clusters = folium.Map(location=[Latitude, Longitude], zoom_start=11)\n",
    "\n",
    "# set color scheme for the clusters\n",
    "x = np.arange(n_clusters)\n",
    "ys = [i + x + (i*x)**2 for i in range(kclusters)]\n",
    "colors_array = cm.rainbow(np.linspace(0, 1, len(ys)))\n",
    "rainbow = [colors.rgb2hex(i) for i in colors_array]\n",
    "\n",
    "# add markers to the map\n",
    "markers_colors = []\n",
    "for lat, lon, poi, cluster in zip(df['Latitude'], df['Longitude'], df['Neighborhoods'], df['cluster']):\n",
    "    label = folium.Popup(str(poi) + ' cluster ' + str(cluster), parse_html=True)\n",
    "    folium.CircleMarker(\n",
    "        [lat, lon],\n",
    "        radius=5,\n",
    "        popup=label,\n",
    "        color=rainbow[cluster-1],\n",
    "        fill=True,\n",
    "        fill_color=rainbow[cluster-1],\n",
    "        fill_opacity=0.7).add_to(map_clusters)\n",
    "       \n",
    "map_clusters"
   ]
  }
 ],
 "metadata": {
  "kernelspec": {
   "display_name": "Python 3",
   "language": "python",
   "name": "python3"
  },
  "language_info": {
   "codemirror_mode": {
    "name": "ipython",
    "version": 3
   },
   "file_extension": ".py",
   "mimetype": "text/x-python",
   "name": "python",
   "nbconvert_exporter": "python",
   "pygments_lexer": "ipython3",
   "version": "3.8.5"
  }
 },
 "nbformat": 4,
 "nbformat_minor": 4
}
