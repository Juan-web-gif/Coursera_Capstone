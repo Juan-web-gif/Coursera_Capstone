{
 "cells": [
  {
   "cell_type": "markdown",
   "metadata": {},
   "source": [
    "I am from Zaragoza a little city in Spain and i have always found a fascination to París. The french capital is a city where you can find so many different styles of living, from Montmartre to the Champs Elysées París is a city worth living in it. \n",
    "I also love my hometown, and more precisley I love my neighborhood, so I wanted to see wich one of the neighborhoods from Paris is the most likely to mine in Population and Population Density.   "
   ]
  }
 ],
 "metadata": {
  "kernelspec": {
   "display_name": "Python 3",
   "language": "python",
   "name": "python3"
  },
  "language_info": {
   "codemirror_mode": {
    "name": "ipython",
    "version": 3
   },
   "file_extension": ".py",
   "mimetype": "text/x-python",
   "name": "python",
   "nbconvert_exporter": "python",
   "pygments_lexer": "ipython3",
   "version": "3.8.5"
  }
 },
 "nbformat": 4,
 "nbformat_minor": 4
}
